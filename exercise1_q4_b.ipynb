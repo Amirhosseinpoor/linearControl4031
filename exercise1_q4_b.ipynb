{
  "nbformat": 4,
  "nbformat_minor": 0,
  "metadata": {
    "colab": {
      "provenance": [],
      "authorship_tag": "ABX9TyNGHG/5Vno8DAPYSPd/RvdG",
      "include_colab_link": true
    },
    "kernelspec": {
      "name": "python3",
      "display_name": "Python 3"
    },
    "language_info": {
      "name": "python"
    }
  },
  "cells": [
    {
      "cell_type": "markdown",
      "metadata": {
        "id": "view-in-github",
        "colab_type": "text"
      },
      "source": [
        "<a href=\"https://colab.research.google.com/github/Amirhosseinpoor/linearControl4031/blob/main/exercise1_q4_b.ipynb\" target=\"_parent\"><img src=\"https://colab.research.google.com/assets/colab-badge.svg\" alt=\"Open In Colab\"/></a>"
      ]
    },
    {
      "cell_type": "code",
      "execution_count": 1,
      "metadata": {
        "id": "HSgQXFk7O0ub",
        "outputId": "c95aeaa0-09af-4476-91aa-b09ef3a35de3",
        "colab": {
          "base_uri": "https://localhost:8080/"
        }
      },
      "outputs": [
        {
          "output_type": "stream",
          "name": "stdout",
          "text": [
            "Collecting control\n",
            "  Downloading control-0.10.1-py3-none-any.whl.metadata (7.6 kB)\n",
            "Requirement already satisfied: sympy in /usr/local/lib/python3.11/dist-packages (1.13.1)\n",
            "Requirement already satisfied: numpy>=1.23 in /usr/local/lib/python3.11/dist-packages (from control) (1.26.4)\n",
            "Requirement already satisfied: scipy>=1.8 in /usr/local/lib/python3.11/dist-packages (from control) (1.13.1)\n",
            "Requirement already satisfied: matplotlib>=3.6 in /usr/local/lib/python3.11/dist-packages (from control) (3.10.0)\n",
            "Requirement already satisfied: mpmath<1.4,>=1.1.0 in /usr/local/lib/python3.11/dist-packages (from sympy) (1.3.0)\n",
            "Requirement already satisfied: contourpy>=1.0.1 in /usr/local/lib/python3.11/dist-packages (from matplotlib>=3.6->control) (1.3.1)\n",
            "Requirement already satisfied: cycler>=0.10 in /usr/local/lib/python3.11/dist-packages (from matplotlib>=3.6->control) (0.12.1)\n",
            "Requirement already satisfied: fonttools>=4.22.0 in /usr/local/lib/python3.11/dist-packages (from matplotlib>=3.6->control) (4.55.5)\n",
            "Requirement already satisfied: kiwisolver>=1.3.1 in /usr/local/lib/python3.11/dist-packages (from matplotlib>=3.6->control) (1.4.8)\n",
            "Requirement already satisfied: packaging>=20.0 in /usr/local/lib/python3.11/dist-packages (from matplotlib>=3.6->control) (24.2)\n",
            "Requirement already satisfied: pillow>=8 in /usr/local/lib/python3.11/dist-packages (from matplotlib>=3.6->control) (11.1.0)\n",
            "Requirement already satisfied: pyparsing>=2.3.1 in /usr/local/lib/python3.11/dist-packages (from matplotlib>=3.6->control) (3.2.1)\n",
            "Requirement already satisfied: python-dateutil>=2.7 in /usr/local/lib/python3.11/dist-packages (from matplotlib>=3.6->control) (2.8.2)\n",
            "Requirement already satisfied: six>=1.5 in /usr/local/lib/python3.11/dist-packages (from python-dateutil>=2.7->matplotlib>=3.6->control) (1.17.0)\n",
            "Downloading control-0.10.1-py3-none-any.whl (549 kB)\n",
            "\u001b[2K   \u001b[90m━━━━━━━━━━━━━━━━━━━━━━━━━━━━━━━━━━━━━━━━\u001b[0m \u001b[32m549.6/549.6 kB\u001b[0m \u001b[31m13.5 MB/s\u001b[0m eta \u001b[36m0:00:00\u001b[0m\n",
            "\u001b[?25hInstalling collected packages: control\n",
            "Successfully installed control-0.10.1\n",
            "0 states have been removed from the model\n",
            "Simplified Transfer Function: <TransferFunction>: sys[49]\n",
            "Inputs (1): ['u[0]']\n",
            "Outputs (1): ['y[0]']\n",
            "\n",
            "\n",
            "   -s^2 + s + 1\n",
            "-------------------\n",
            "s^3 + 2 s^2 + s + 2\n",
            "\n",
            "Poles of the system: [-2.00000000e+00+0.j  5.82867088e-16+1.j  5.82867088e-16-1.j]\n"
          ]
        }
      ],
      "source": [
        "!pip install control sympy\n",
        "\n",
        "import sympy as sp\n",
        "from control import tf, series, feedback, minreal, poles\n",
        "\n",
        "s = tf([1, 0], [1])\n",
        "\n",
        "G1 = 1 / s\n",
        "G2 = 2 * s + 1\n",
        "G3 = 1 / (s**2 + 1)\n",
        "G4 = s / (s + 1)\n",
        "\n",
        "H1 = 3 / s\n",
        "H2 = (s - 1) / (s + 3)\n",
        "H3 = s / (s**2 + 3 * s + 1)\n",
        "H4 = 1 / (s + 2)\n",
        "\n",
        "y2 = s\n",
        "\n",
        "input_to_G1 = y2\n",
        "input_to_G2 = G1\n",
        "input_to_G3 = G4 + G2 - H2\n",
        "input_to_G4 = y2\n",
        "\n",
        "input_to_H1 = G1\n",
        "input_to_H2 = G3 - H4\n",
        "input_to_H3 = G3 - H4\n",
        "input_to_H4 = G3 - H4\n",
        "\n",
        "y5 = G3 - H4\n",
        "\n",
        "plant_ic = minreal(tf([y5.num[0]], [y5.den[0]]))\n",
        "\n",
        "poles_of_system = poles(plant_ic)\n",
        "\n",
        "print(\"Simplified Transfer Function:\", plant_ic)\n",
        "print(\"Poles of the system:\", poles_of_system)\n"
      ]
    }
  ]
}